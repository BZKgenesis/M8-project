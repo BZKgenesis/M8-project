{
 "cells": [
  {
   "cell_type": "code",
   "execution_count": 1,
   "id": "70bed797",
   "metadata": {},
   "outputs": [],
   "source": [
    "import matplotlib.pyplot as plt\n",
    "import numpy as np\n",
    "import pandas as pd\n",
    "\n",
    "# Charger le jeu de données\n",
    "df = pd.read_csv('drug_consumption.data')"
   ]
  },
  {
   "cell_type": "code",
   "execution_count": null,
   "id": "b02e67dd",
   "metadata": {},
   "outputs": [],
   "source": [
    "QUALITATIVE_LABELS = {\n",
    "    'AGE':[\"18-24\",\"25-34\",\"35-44\",\"45-54\",\"55-64\",\"65+\"],\n",
    "    'GENDER':[\"Homme\", \"Femme\"],\n",
    "    'EDUCATION':[\"a quitté l'école avant 16 ans\",\n",
    "                 \"a quitté l'école à 16 ans\",\n",
    "                 \"a quitté l'école à 17 ans\",\n",
    "                 \"a quitté l'école à 18 ans\",\n",
    "                 \"a fait un peu d'université mais n'as pas de diplôme ou de certificat\",\n",
    "                 \"a un certificat ou diplome professionel\",\n",
    "                 \"a un diplome universitaire (Bac+3)\",\n",
    "                 \"a un Master (Bac+5)\",\n",
    "                 \"a un doctorat (Bac+8+)\"],\n",
    "    'COUNTRY':['USA', 'New Zealand', 'Other', 'Australia', 'Republic of Ireland', 'Canada', 'UK'],\n",
    "    'ETHNICITY':['Black', 'Asian', 'White', 'Mixed-White/Black', 'Other', 'Mixed-White/Asian', 'Mixed-Black/Asian'],\n",
    "}"
   ]
  },
  {
   "cell_type": "code",
   "execution_count": null,
   "id": "18c40a7a",
   "metadata": {},
   "outputs": [],
   "source": [
    "figure, ax = plt.subplots(2, 3, figsize=(15, 15))\n",
    "parametres_a_afficher = ['AGE','GENDER','COUNTRY','ETHNICITY','EDUCATION']\n",
    "indice = 0\n",
    "param = parametres_a_afficher[indice]\n",
    "plt.bar(QUALITATIVE_LABELS[param], np.unique(df[param], return_counts=True)[1])\n",
    "plt.title(f'Histogramme de la répartition du parametre {param}')\n",
    "plt.xlabel(param)\n",
    "plt.ylabel('Nombre de personnes')\n",
    "\n",
    "for i, parametre in enumerate(parametres_a_afficher):\n",
    "    ax[i//3,i%3].bar(QUALITATIVE_LABELS[parametre],np.unique(df[parametre], return_counts=True)[1])\n",
    "    ax[i//3,i%3].set_title(f'Histogramme de la répartition du parametre {parametre}')\n",
    "    ax[i//3,i%3].set_xlabel(parametre)\n",
    "    ax[i//3,i%3].set_ylabel('Nombre de consommateurs')\n",
    "    ax[i//3,i%3].set_xticks(QUALITATIVE_LABELS[parametre])\n",
    "    ax[i//3,i%3].set_xticklabels(QUALITATIVE_LABELS[parametre],rotation=90)\n",
    "figure.delaxes(ax[1][2])\n",
    "plt.tight_layout()\n",
    "plt.savefig('./image_matplotlib/histogrammes_qualitatifs.png')"
   ]
  }
 ],
 "metadata": {
  "kernelspec": {
   "display_name": ".venv",
   "language": "python",
   "name": "python3"
  },
  "language_info": {
   "codemirror_mode": {
    "name": "ipython",
    "version": 3
   },
   "file_extension": ".py",
   "mimetype": "text/x-python",
   "name": "python",
   "nbconvert_exporter": "python",
   "pygments_lexer": "ipython3",
   "version": "3.11.5"
  }
 },
 "nbformat": 4,
 "nbformat_minor": 5
}
