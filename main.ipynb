{
 "cells": [
  {
   "cell_type": "code",
   "execution_count": 7,
   "id": "38abfbd8",
   "metadata": {},
   "outputs": [
    {
     "name": "stdout",
     "output_type": "stream",
     "text": [
      "### 1. ID\n",
      "### 2. AGE\n",
      "### 3. GENDER\n",
      "### 4. EDUCATION\n",
      "### 5. COUNTRY\n",
      "### 6. ETHNICITY\n",
      "### 7. NSCORE\n",
      "### 8. ESCORE\n",
      "### 9. OSCORE\n",
      "### 10. ASCORE\n",
      "### 11. CSCORE\n",
      "### 12. IMPULSIVE\n",
      "### 13. SS\n",
      "### 14. ALCOHOL\n",
      "### 15. AMPHET\n",
      "### 16. AMYL\n",
      "### 17. BENZOS\n",
      "### 18. CAFF\n",
      "### 19. CANABIS\n",
      "### 20. CHOC\n",
      "### 21. COKE\n",
      "### 22. CRACK\n",
      "### 23. ECSTASY\n",
      "### 24. HEROIN\n",
      "### 25. KETAMINE\n",
      "### 26. LEGALH\n",
      "### 27. LSD\n",
      "### 28. METH\n",
      "### 29. MUSHROOMS\n",
      "### 30. NICOTINE\n",
      "### 31. SEMER\n",
      "### 32. VSA\n"
     ]
    }
   ],
   "source": [
    "import matplotlib.pyplot as plt\n",
    "import numpy as np\n",
    "import pandas as pd\n",
    "\n",
    "# Load the dataset\n",
    "\n",
    "df = pd.read_csv('drug_consumption.data')\n",
    "for i,column in enumerate(df.columns):\n",
    "    print(\"### \"+str(i+1)+\". \"+ column)\n"
   ]
  },
  {
   "cell_type": "code",
   "execution_count": null,
   "id": "6dcf0521",
   "metadata": {},
   "outputs": [],
   "source": []
  }
 ],
 "metadata": {
  "kernelspec": {
   "display_name": ".venv",
   "language": "python",
   "name": "python3"
  },
  "language_info": {
   "codemirror_mode": {
    "name": "ipython",
    "version": 3
   },
   "file_extension": ".py",
   "mimetype": "text/x-python",
   "name": "python",
   "nbconvert_exporter": "python",
   "pygments_lexer": "ipython3",
   "version": "3.11.5"
  }
 },
 "nbformat": 4,
 "nbformat_minor": 5
}
